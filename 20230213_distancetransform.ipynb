{
 "cells": [
  {
   "cell_type": "markdown",
   "metadata": {},
   "source": [
    "# Mathematical morphology: the distance transform\n"
   ]
  },
  {
   "cell_type": "markdown",
   "metadata": {},
   "source": [
    "### 1. Overview & learning objectives\n",
    "In this notebook we will develop a method to identify one point per cell. This will be useful later on to apply region-growing algorithms of cell segmentation. \n",
    "\n",
    "With this notebook we will:\n",
    "\n",
    "1. Learn about the distance transform as a morphological method to measure distances in an image.\n",
    "\n",
    "1. Use the local maxima of the distance transform to identify one point per object to be segmented.\n",
    "\n",
    "1. Overlay labeled and grayscale images."
   ]
  },
  {
   "cell_type": "markdown",
   "metadata": {},
   "source": [
    "### 2. The distance transform\n",
    "In previous lectures, we have used a combination of filtering, local thresholding, and mathematical morphology to generate a mask of cell edges. Our ultimate goal is to find one point per cell that we will *grow* using a segmentation algorithm. Run this code to reproduce what we did so far:\n"
   ]
  },
  {
   "cell_type": "code",
   "execution_count": null,
   "metadata": {},
   "outputs": [],
   "source": [
    "import matplotlib.pyplot as plt\n",
    "import numpy\n",
    "from skimage import exposure, filters, io, morphology\n",
    "\n",
    "# Read image from disk.\n",
    "animage = io.imread('cells.tif')\n",
    "\n",
    "# Gaussian smoothing to facilitate edge detection.\n",
    "animage_smooth = filters.gaussian(animage, sigma=2, preserve_range=True)\n",
    "\n",
    "# Contrast stretch.\n",
    "animage_rescaled = exposure.rescale_intensity(\n",
    "    animage_smooth, out_range=numpy.uint8)\n",
    "\n",
    "# Local threshold.\n",
    "amask = animage_rescaled >= filters.threshold_local(\n",
    "    animage_rescaled, 33, method='gaussian')\n",
    "\n",
    "amask_closed = morphology.binary_closing(amask, morphology.disk(3))\n",
    "\n",
    "# Display image and mask.\n",
    "fig, axs = plt.subplots(1, 2)\n",
    "axs[0].imshow(animage, cmap='Greys_r')\n",
    "axs[1].imshow(amask_closed, cmap='binary_r')\n",
    "plt.show()\n"
   ]
  },
  {
   "cell_type": "markdown",
   "metadata": {},
   "source": [
    "Now that we have a good representation of interfacial pixels, let's find pixels **away** from interfaces. The **distance transform** of a binary image is an image in which the value of each pixel corresponds to its distance to the background. In general, the distance transform can be calculated by iteratively eroding an image until there are no \"on\" pixels left. The distance transform value of a pixel corresponds to the number of the erosion in which the pixel disappeared.\n",
    "\n",
    "We can use the distance transform to identify pixels far from cell interfaces. We will use a method in the scipy.ndimage module to calculate the distance transform, **distance_transform_edt**. scikit-image provides its own method to calculate the distance transform (skimage.morphology.medial_axis), but that function does many more things, and using it here is overkill."
   ]
  },
  {
   "cell_type": "markdown",
   "metadata": {},
   "source": [
    "Use distance_transform_edt to calculate the distance transform of the mask above. Remember, we are trying to find the distance from any given pixel to the cell interfaces ..."
   ]
  },
  {
   "cell_type": "code",
   "execution_count": null,
   "metadata": {},
   "outputs": [],
   "source": [
    "# DELETE THIS CODE.\n",
    "\n",
    "import scipy.ndimage as ndimage\n",
    "\n",
    "# distance_transform_cdt does integer distances. Using the chessboard distance metric (instead of taxicab) is the equivalent as a dt implemented through sequential erosions with N8 connnectivity.\n",
    "# distance_transform_edt multiplies the distance of corner pixels by 1.4 (sqrt(2)).\n",
    "dt = ndimage.distance_transform_edt(numpy.invert(amask_closed))\n",
    "\n",
    "fig, axs = plt.subplots(1, 2)\n",
    "axs[0].imshow(animage, cmap='Greys_r')\n",
    "axs[1].imshow(dt, cmap='Greys_r')\n",
    "plt.show()\n"
   ]
  },
  {
   "cell_type": "markdown",
   "metadata": {},
   "source": [
    "### 3. Finding and displaying seeds\n",
    "Our goal is to obtain one and only one seed point per cell. Once we have the distance transform, there are multiple ways to obtain one point per cell. To visualize seeds, let's define a function, **plot_seeds** that plots a list of points over an image. The function also returns an image with the seeds."
   ]
  },
  {
   "cell_type": "code",
   "execution_count": null,
   "metadata": {},
   "outputs": [],
   "source": [
    "def plot_seeds(theimage, theseed_coords):\n",
    "    \"\"\"\n",
    "        plot_seeds: plots a set of points on an image.\n",
    "        \n",
    "        input:\n",
    "            theimage: ndarray representing the image.\n",
    "            theseed_coords: ndarray with two columns and as many rows as points to be displayed, \n",
    "                            containing the [y, x] coordinates of each point.     \n",
    "            \n",
    "        output:\n",
    "            seed_image: ndarray representing a labeled image with one object per seed.\n",
    "    \"\"\"\n",
    "\n",
    "    # Create empty seed image.\n",
    "    seed_image = numpy.zeros(theimage.shape)\n",
    "\n",
    "    # For each seed ...\n",
    "    for label, seed_xy in enumerate(theseed_coords):\n",
    "        # ... set the value of the corresponding pixel to a different value.\n",
    "        seed_image[seed_xy[0], seed_xy[1]] = label + 1\n",
    "\n",
    "    # Display the image.\n",
    "    plt.imshow(theimage, cmap='gray')\n",
    "    \n",
    "    # Create a structuring element to dilate (aka grow) seeds a bit for display.\n",
    "    structelem = morphology.disk(3)\n",
    "    \n",
    "    # And overlay the seeds.\n",
    "    plt.imshow(morphology.dilation(seed_image, structelem), cmap='jet', alpha=0.50)\n",
    "    plt.show()\n",
    "    \n",
    "    return seed_image"
   ]
  },
  {
   "cell_type": "markdown",
   "metadata": {},
   "source": [
    "To obtain one point per cell, we will extract the local maxima of the distance transform. This could be accomplished in different ways. For example, one could threshold the distance tranform to identify pixels that are **at least** a certain distance away from cell interfaces (you could think about how to implement that solution, perhaps using an adaptive threshold). \n",
    "\n",
    "In scikit-image, the skimage.feature module includes the method **peak_local_max**, which can be applied to the distance transform (in combination with the mask that we generated) to obtain one maximum per cell.\n",
    "\n",
    "Using the documentation of **peak_local_max** and **plot_seeds**, extract and visualize a set of seeds for our image. What are the critical parameters to obtain an accurate number of seeds? What are the limitations of peak_local_max?"
   ]
  },
  {
   "cell_type": "code",
   "execution_count": null,
   "metadata": {},
   "outputs": [],
   "source": [
    "# DELETE THIS CODE\n",
    "import skimage.feature as feature\n",
    "\n",
    "coords_maxima = feature.peak_local_max(dt, labels=morphology.label(numpy.invert(amask_closed)), num_peaks_per_label=1, exclude_border=False)\n",
    "\n",
    "seed_image = plot_seeds(animage, coords_maxima)"
   ]
  }
 ],
 "metadata": {
  "kernelspec": {
   "display_name": "conda39pyjamas",
   "language": "python",
   "name": "python3"
  },
  "language_info": {
   "codemirror_mode": {
    "name": "ipython",
    "version": 3
   },
   "file_extension": ".py",
   "mimetype": "text/x-python",
   "name": "python",
   "nbconvert_exporter": "python",
   "pygments_lexer": "ipython3",
   "version": "3.9.5 (default, May 18 2021, 12:31:01) \n[Clang 10.0.0 ]"
  },
  "vscode": {
   "interpreter": {
    "hash": "de02d558a8f107ea6ba37b3f7e953fa52b5d228af0a001081c3b7ead807899c1"
   }
  }
 },
 "nbformat": 4,
 "nbformat_minor": 2
}
