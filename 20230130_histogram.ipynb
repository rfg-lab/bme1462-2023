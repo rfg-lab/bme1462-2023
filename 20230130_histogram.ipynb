{
 "cells": [
  {
   "cell_type": "markdown",
   "metadata": {},
   "source": [
    "# Image enhancement: histograms\n"
   ]
  },
  {
   "cell_type": "markdown",
   "metadata": {},
   "source": [
    "### 1. Overview & learning objectives\n",
    "In this notebook we will work with histograms and learn about different ways to use a histogram to process images. \n",
    "\n",
    "With this notebook we will:\n",
    "\n",
    "1. Generate the histogram of an image and study the main features of the histogram.\n",
    "\n",
    "1. Use a histogram to increase the contrast of an image.\n",
    "\n",
    "1. Use a histogram to select foreground *vs.* background pixels in an image."
   ]
  },
  {
   "cell_type": "markdown",
   "metadata": {},
   "source": [
    "### 2. Histograms\n",
    "Let's go back to the image that we used last time. Load it into a variable called *animage* using **imread**:"
   ]
  },
  {
   "cell_type": "code",
   "execution_count": null,
   "metadata": {},
   "outputs": [],
   "source": [
    "# DELETE THIS CODE\n",
    "from skimage import io, filters\n",
    "\n",
    "animage = io.imread('cells.tif')\n",
    "\n",
    "animage.dtype?\n"
   ]
  },
  {
   "cell_type": "markdown",
   "metadata": {},
   "source": [
    "Representing images as **numpy ndarrays** is really powerful. For example, thresholding, defined as the separation of foreground and background pixels, can be easily accomplished by:"
   ]
  },
  {
   "cell_type": "code",
   "execution_count": null,
   "metadata": {},
   "outputs": [],
   "source": [
    "amask = animage > 150  # this creates a new array, notice the data type!!\n",
    "\n",
    "print(amask)\n",
    "\n",
    "import matplotlib.pyplot as plt\n",
    "\n",
    "plt.imshow(amask, cmap='binary_r')  # set default color map to binary with 0-dark and 1-bright.\n",
    "plt.show()"
   ]
  },
  {
   "cell_type": "markdown",
   "metadata": {},
   "source": [
    "Here, the threshold value that separates foreground and background, **150**, is not arbitrary: it was selected based on the image histogram. In **numpy**, one can use the **histogram** function to create a histogram:"
   ]
  },
  {
   "cell_type": "code",
   "execution_count": null,
   "metadata": {},
   "outputs": [],
   "source": [
    "import matplotlib.pyplot as plt\n",
    "import numpy\n",
    "\n",
    "thehistogram, binedges = numpy.histogram(animage, bins=256, range=(0, 256), density=False)  # create the histogram.\n",
    "\n",
    "# display the histogram using the matplotlib function bar. \n",
    "plt.figure()\n",
    "plt.bar(binedges[:-1], thehistogram)\n",
    "plt.xlabel('pixel value')\n",
    "plt.ylabel('number of pixels')\n",
    "plt.show()\n"
   ]
  },
  {
   "cell_type": "markdown",
   "metadata": {},
   "source": [
    "For an image in which cell membranes are bright and the cell cytoplasm is dim, the most frequent pixel value (the **mode** of the histogram) represents the background signal (an estimate of the cytoplasmic signal). As you see, a  threshold of **150** separates the brightest tail of the histogram, corresponding to the membrane pixels, from the cytoplasmic signal. "
   ]
  },
  {
   "cell_type": "markdown",
   "metadata": {},
   "source": [
    "To understand what the **histogram** function  is doing, it is helpful to answer the following questions:\n",
    "\n",
    "* what is stored in *binedges* and why are we passing *binedges[:-1]* to **matplotlib**'s **bar** function?\n",
    "* what happens if you modify the *bins* parameter? how about *range*?\n",
    "* what is the role of *density*? how does the histogram change if you set *density=True*?"
   ]
  },
  {
   "cell_type": "code",
   "execution_count": null,
   "metadata": {},
   "outputs": [],
   "source": [
    "# DELETE THIS CODE\n",
    "numpy.histogram?\n",
    "\n",
    "thehistogram, binedges = numpy.histogram(\n",
    "    animage, bins=25, range=(0, 256), density=False)\n",
    "plt.figure()\n",
    "plt.bar(binedges[:-1], thehistogram)\n",
    "plt.xlabel('pixel value')\n",
    "plt.ylabel('number of pixels')\n",
    "plt.show()\n",
    "\n",
    "thehistogram, binedges = numpy.histogram(\n",
    "    animage, bins=256, range=(0, 100), density=False)\n",
    "plt.figure()\n",
    "plt.bar(binedges[:-1], thehistogram)\n",
    "plt.xlabel('pixel value')\n",
    "plt.ylabel('number of pixels')\n",
    "plt.show()\n",
    "\n",
    "thehistogram, binedges = numpy.histogram(\n",
    "    animage, bins=256, range=(0, 256), density=True)\n",
    "plt.figure()\n",
    "plt.bar(binedges[:-1], thehistogram)\n",
    "plt.xlabel('pixel value')\n",
    "plt.ylabel('fraction of pixels')\n",
    "plt.show()\n"
   ]
  },
  {
   "cell_type": "markdown",
   "metadata": {},
   "source": [
    "### 3. Contrast stretching\n",
    "Last time we discussed how to use filtering to blur the bright structures that we want to detect, thus increasing their continuity. Let's go back to that image:"
   ]
  },
  {
   "cell_type": "code",
   "execution_count": null,
   "metadata": {},
   "outputs": [],
   "source": [
    "# DELETE THIS CODE.\n",
    "animage_smooth = filters.gaussian(animage, sigma=2, preserve_range=True)  # this is a good sigma value, as it flattens the background while providing thick boundaries. \n",
    "\n",
    "plt.imshow(animage_smooth, cmap='Greys_r', vmin=0, vmax=255)  # imshow does a contrast stretching unless vmin and vmax are specified.\n",
    "plt.show()\n"
   ]
  },
  {
   "cell_type": "markdown",
   "metadata": {},
   "source": [
    "Pay attention to the pixel values in the smooth image and generate a histogram. Can you think of strategies to increase the contrast of this image? The method **skimage.exposure.rescale_intensity** may be useful."
   ]
  },
  {
   "cell_type": "code",
   "execution_count": null,
   "metadata": {},
   "outputs": [],
   "source": [
    "# DELETE THIS CODE\n",
    "thehistogram, binedges = numpy.histogram(\n",
    "    animage_smooth, bins=256, range=(0, 256), density=True)\n",
    "plt.figure()\n",
    "plt.bar(binedges[:-1], thehistogram)\n",
    "plt.xlabel('pixel value')\n",
    "plt.ylabel('fraction of pixels')\n",
    "plt.show()\n"
   ]
  },
  {
   "cell_type": "code",
   "execution_count": null,
   "metadata": {},
   "outputs": [],
   "source": [
    "# DELETE THIS CODE.\n",
    "import skimage.exposure as exposure\n",
    "exposure.rescale_intensity?\n",
    "\n",
    "animage_rescaled = exposure.rescale_intensity(animage_smooth, out_range=numpy.uint8)\n",
    "\n",
    "thehistogram, binedges = numpy.histogram(\n",
    "    animage_rescaled, bins=256, range=(0, 256), density=True)\n",
    "plt.figure()\n",
    "plt.bar(binedges[:-1], thehistogram)\n",
    "plt.xlabel('pixel value')\n",
    "plt.ylabel('fraction of pixels')\n",
    "plt.show()\n"
   ]
  },
  {
   "cell_type": "code",
   "execution_count": null,
   "metadata": {},
   "outputs": [],
   "source": [
    "# DELETE THIS CODE\n",
    "fig, axs = plt.subplots(1, 2)  \n",
    "axs[0].imshow(animage_smooth, cmap='Greys_r', vmin=0, vmax=255)  # imshow normalizes data to the(0, 1) range by default.\n",
    "axs[1].imshow(animage_rescaled, cmap='Greys_r', vmin=0, vmax=255)  # imshow normalizes data to the(0, 1) range by default.\n",
    "plt.show()\n"
   ]
  },
  {
   "cell_type": "markdown",
   "metadata": {},
   "source": [
    "### 4. Thresholding\n",
    " Let's go back to our rescaled, smooth image *animage_rescaled*. Can you find a good threshold value to segment foreground and background? If yes, which one? If not, why?"
   ]
  },
  {
   "cell_type": "code",
   "execution_count": null,
   "metadata": {},
   "outputs": [],
   "source": [
    "# DELETE THIS CODE.\n",
    "amask = animage_rescaled > 70  # this creates a new array, notice the data type!!\n",
    "\n",
    "print(amask)\n",
    "\n",
    "\n",
    "# set default color map to binary with 0-dark and 1-bright.\n",
    "plt.imshow(amask, cmap='binary_r')\n",
    "plt.show()\n",
    "\n",
    "# Illumination is not uniform, and thus, when one corner is properly thresholded, the opposite is not.\n"
   ]
  },
  {
   "cell_type": "markdown",
   "metadata": {},
   "source": [
    "Proper thresholding often requires setting a different threshold value per pixel. This is known as **adaptive or local thresholding**. In local thresholding, the threshold value at each pixel depends on the neighbouring pixels (e.g. it is the mean of the pixels within a 3x3 window around each pixel). In scikit-image, local thresholding can be accomplished with the method **skimage.filters.threshold_local**.\n",
    "\n",
    "Consult the documentation for threshold_local, and use local thresholding to obtain an accurate seggregation between interfacial and cytoplasmic pixels in the image above. What parameters did you use? Which ones did not work? How is the result different from the result using a single threshold for the entire image?"
   ]
  },
  {
   "cell_type": "code",
   "execution_count": null,
   "metadata": {},
   "outputs": [],
   "source": [
    "# DELETE THIS CODE\n",
    "\n",
    "# this creates a new array, notice the data type!!\n",
    "amask = animage_rescaled >= filters.threshold_local(animage_rescaled, 65, method='gaussian')  # 65 is a better value, 33 is useful to illustrate morphological operations in next lecture.\n",
    "\n",
    "\n",
    "# set default color map to binary with 0-dark and 1-bright.\n",
    "plt.imshow(amask, cmap='binary_r')\n",
    "plt.show()\n",
    "\n",
    "# The threshold results are uniform throughout the image, rather than favouring one of the image corners.\n"
   ]
  }
 ],
 "metadata": {
  "kernelspec": {
   "display_name": "conda39pyjamas",
   "language": "python",
   "name": "python3"
  },
  "language_info": {
   "codemirror_mode": {
    "name": "ipython",
    "version": 3
   },
   "file_extension": ".py",
   "mimetype": "text/x-python",
   "name": "python",
   "nbconvert_exporter": "python",
   "pygments_lexer": "ipython3",
   "version": "3.9.5"
  },
  "vscode": {
   "interpreter": {
    "hash": "de02d558a8f107ea6ba37b3f7e953fa52b5d228af0a001081c3b7ead807899c1"
   }
  }
 },
 "nbformat": 4,
 "nbformat_minor": 4
}
