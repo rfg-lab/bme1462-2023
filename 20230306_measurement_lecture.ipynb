{
 "cells": [
  {
   "cell_type": "markdown",
   "metadata": {},
   "source": [
    "# Image measurement: object morphology\n"
   ]
  },
  {
   "cell_type": "markdown",
   "metadata": {},
   "source": [
    "### 1. Overview & learning objectives\n",
    "In this notebook we will measure cells.  \n",
    "\n",
    "With this notebook we will:\n",
    "\n",
    "1. Learn about a useful function to measure both morphology and intensity features.\n",
    "\n",
    "1. Measure the area and perimeter of the cells that we segmented.\n",
    "\n",
    "1. Use plots to display the measurement results."
   ]
  },
  {
   "cell_type": "markdown",
   "metadata": {},
   "source": [
    "### 2. Measuring cell size\n",
    "In our last lecture, we used the watershed algorithm to segment the cells. Run this cell to reproduce what we did so far:"
   ]
  },
  {
   "cell_type": "code",
   "execution_count": null,
   "metadata": {},
   "outputs": [],
   "source": [
    "import matplotlib.pyplot as plt\n",
    "import numpy\n",
    "import scipy.ndimage as ndimage\n",
    "from skimage import exposure, filters, feature, io, morphology\n",
    "from skimage.segmentation import watershed\n",
    "\n",
    "# Read image from disk.\n",
    "animage = io.imread('cells.tif')\n",
    "\n",
    "# Gaussian smoothing to facilitate edge detection.\n",
    "animage_smooth = filters.gaussian(animage, sigma=2, preserve_range=True)\n",
    "\n",
    "# Contrast stretch.\n",
    "animage_rescaled = exposure.rescale_intensity(\n",
    "    animage_smooth, out_range=numpy.uint8)\n",
    "\n",
    "# Local threshold.\n",
    "amask = animage_rescaled >= filters.threshold_local(\n",
    "    animage_rescaled, 33, method='gaussian')\n",
    "\n",
    "# Closing\n",
    "amask_closed = morphology.binary_closing(amask, morphology.disk(3))\n",
    "\n",
    "# Distance transform.\n",
    "dt = ndimage.distance_transform_edt(numpy.invert(amask_closed))\n",
    "\n",
    "# Seed identification.\n",
    "coords_maxima = feature.peak_local_max(dt, labels=morphology.label(\n",
    "    numpy.invert(amask_closed)), num_peaks_per_label=1, exclude_border=False)\n",
    "\n",
    "# Create seed image.\n",
    "seed_image = numpy.zeros(animage.shape)\n",
    "\n",
    "# For each seed ...\n",
    "for label, seed_xy in enumerate(coords_maxima):\n",
    "    # ... set the value of the corresponding pixel to a different value.\n",
    "    seed_image[seed_xy[0], seed_xy[1]] = label + 1\n",
    "\n",
    "watershed_segm = watershed(animage_rescaled, markers=seed_image, watershed_line=True)\n",
    "\n",
    "# Display image and seeds.\n",
    "fig, axs = plt.subplots(1, 2)\n",
    "axs[0].imshow(animage, cmap='Greys_r')\n",
    "axs[1].imshow(watershed_segm, cmap='inferno')\n",
    "plt.show()"
   ]
  },
  {
   "cell_type": "markdown",
   "metadata": {},
   "source": [
    "Our last step is to measure the cells. The method **skimage.measure.regionprops** is an excellent tool to do this. Take a look at its documentation. Under the **Notes** section there is a list of features that regionprops measures, including area, perimeter, pixel value, etc."
   ]
  },
  {
   "cell_type": "code",
   "execution_count": null,
   "metadata": {},
   "outputs": [],
   "source": []
  },
  {
   "cell_type": "markdown",
   "metadata": {},
   "source": [
    "We can use **regionprops** to measure all the cells in an image. The measurements can be accessed and collected into convenient lists like this:"
   ]
  },
  {
   "cell_type": "code",
   "execution_count": null,
   "metadata": {
    "scrolled": true
   },
   "outputs": [],
   "source": [
    "# Measure labeled image.\n",
    "cell_props = regionprops(watershed_segm)  \n",
    "\n",
    "# Define two empty lists to store areas and perimeters.\n",
    "cell_areas = []\n",
    "cell_perimeters = []\n",
    "\n",
    "# Loop through the measurements for each cell ...\n",
    "for acell in cell_props:\n",
    "    # ... and store both area and perimeter in the corresponding lists.\n",
    "    cell_areas.append(acell.area)\n",
    "    cell_perimeters.append(acell.perimeter)\n",
    "\n",
    "# Print the area and perimeter measurements.\n",
    "print(cell_areas)\n",
    "print(cell_perimeters)"
   ]
  },
  {
   "cell_type": "markdown",
   "metadata": {},
   "source": [
    "### 3. Data visualization\n",
    "\n",
    "Plotting measurement results is often more useful that printing each one of the measurements. We will use **matplotlib** to generate plots. Below is an example from the [matplotlib website](https://matplotlib.org/2.0.0/examples/statistics/boxplot_vs_violin_demo.html) that generates a violin and a box plot for random, test data:"
   ]
  },
  {
   "cell_type": "code",
   "execution_count": null,
   "metadata": {},
   "outputs": [],
   "source": [
    "fig, axes = plt.subplots(nrows=1, ncols=2, figsize=(9, 4))\n",
    "\n",
    "# generate some random test data\n",
    "all_data = [numpy.random.normal(0, std, 100) for std in range(6, 10)]\n",
    "\n",
    "# plot violin plot\n",
    "axes[0].violinplot(all_data,\n",
    "                   showmeans=False,\n",
    "                   showmedians=True)\n",
    "axes[0].set_title('violin plot')\n",
    "\n",
    "# plot box plot\n",
    "axes[1].boxplot(all_data)\n",
    "axes[1].set_title('box plot')\n",
    "\n",
    "# adding horizontal grid lines\n",
    "for ax in axes:\n",
    "    ax.yaxis.grid(True)\n",
    "    ax.set_xticks([y+1 for y in range(len(all_data))])\n",
    "    ax.set_xlabel('xlabel')\n",
    "    ax.set_ylabel('ylabel')\n",
    "\n",
    "# add x-tick labels\n",
    "plt.setp(axes, xticks=[y+1 for y in range(len(all_data))],\n",
    "         xticklabels=['x1', 'x2', 'x3', 'x4'])\n",
    "plt.show()"
   ]
  },
  {
   "cell_type": "markdown",
   "metadata": {},
   "source": [
    "Use the code above as a guide to generate a figure with two plots, each of them comparing area and perimeter for the cells in the original image, displayed as a violin plot on the left, and as a box plot on the right."
   ]
  },
  {
   "cell_type": "code",
   "execution_count": null,
   "metadata": {},
   "outputs": [],
   "source": []
  }
 ],
 "metadata": {
  "kernelspec": {
   "display_name": "Python 3",
   "language": "python",
   "name": "python3"
  },
  "language_info": {
   "codemirror_mode": {
    "name": "ipython",
    "version": 3
   },
   "file_extension": ".py",
   "mimetype": "text/x-python",
   "name": "python",
   "nbconvert_exporter": "python",
   "pygments_lexer": "ipython3",
   "version": "3.7.7"
  }
 },
 "nbformat": 4,
 "nbformat_minor": 2
}
