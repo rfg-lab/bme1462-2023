{
 "cells": [
  {
   "cell_type": "markdown",
   "metadata": {},
   "source": [
    "# Image enhancement: filtering\n"
   ]
  },
  {
   "cell_type": "markdown",
   "metadata": {},
   "source": [
    "### 1. Overview & learning objectives\n",
    "In this notebook we will get practice filtering an image, and we will explore how filters affect pixel values in practice. \n",
    "\n",
    "With this notebook we will:\n",
    "\n",
    "1. Learn how to implement a Gaussian filter on an image.\n",
    "\n",
    "1. Understand the role of the $\\sigma$ parameter in a Gaussian filter. \n"
   ]
  },
  {
   "cell_type": "markdown",
   "metadata": {},
   "source": [
    "### 2. Filtering\n",
    "As a vertebrating example throughout the course, we will develop an algorithm to automatically outline the cells in *cells.tif*. As we will see later in the course, this is referred to as **segmenting the cells in the image**.  Let's start by loading the image from disk:"
   ]
  },
  {
   "cell_type": "code",
   "execution_count": null,
   "metadata": {},
   "outputs": [],
   "source": []
  },
  {
   "cell_type": "markdown",
   "metadata": {},
   "source": [
    "The first step of many segmentation pipelines is to blur the image. The idea is to smooth out noise, \"flatten\" the background, and increase the continuity of boundaries between objects. A common way to blur an image is to apply a **Gaussian filter**. In Gaussian filtering, each pixel value is substituted by a (Gaussian-) weighted average of its neighbouring pixels. \n",
    "\n",
    "The scikit-image module **filters** contains methods to filter images. Import the filters module and examine the function **filters.gaussian**:"
   ]
  },
  {
   "cell_type": "code",
   "execution_count": null,
   "metadata": {},
   "outputs": [],
   "source": []
  },
  {
   "cell_type": "markdown",
   "metadata": {},
   "source": [
    "Let's use skimage.filters.gaussian to smoothen animage. Based on the goals of smoothing the input image mentioned above, can you think of a good value for the sigma parameter? Why did you choose that value?"
   ]
  },
  {
   "cell_type": "code",
   "execution_count": null,
   "metadata": {},
   "outputs": [],
   "source": [
    "\n"
   ]
  },
  {
   "cell_type": "markdown",
   "metadata": {},
   "source": [
    "Pay attention to the pixel values in the smooth image. What is different about them? Next week we will discuss how to formally describe changes in the distribution of pixel values in an image and how to normalize for those changes. "
   ]
  },
  {
   "cell_type": "code",
   "execution_count": null,
   "metadata": {},
   "outputs": [],
   "source": []
  }
 ],
 "metadata": {
  "kernelspec": {
   "display_name": "conda39pyjamas",
   "language": "python",
   "name": "python3"
  },
  "language_info": {
   "codemirror_mode": {
    "name": "ipython",
    "version": 3
   },
   "file_extension": ".py",
   "mimetype": "text/x-python",
   "name": "python",
   "nbconvert_exporter": "python",
   "pygments_lexer": "ipython3",
   "version": "3.9.5 (default, May 18 2021, 12:31:01) \n[Clang 10.0.0 ]"
  },
  "vscode": {
   "interpreter": {
    "hash": "de02d558a8f107ea6ba37b3f7e953fa52b5d228af0a001081c3b7ead807899c1"
   }
  }
 },
 "nbformat": 4,
 "nbformat_minor": 2
}
