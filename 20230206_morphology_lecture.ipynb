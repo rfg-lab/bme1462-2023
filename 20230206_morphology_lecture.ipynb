{
 "cells": [
  {
   "cell_type": "markdown",
   "metadata": {},
   "source": [
    "# Mathematical morphology: erosion, dilation, opening, and closing\n"
   ]
  },
  {
   "cell_type": "markdown",
   "metadata": {},
   "source": [
    "### 1. Overview & learning objectives\n",
    "In this notebook we will work with histograms and learn about different ways to use a histogram to process images. \n",
    "\n",
    "With this notebook we will:\n",
    "\n",
    "1. Explore the implementation of opening and closing in scikit-image.\n",
    "\n",
    "1. Use morphological opening and closing to improve the results of image thresholding.\n"
   ]
  },
  {
   "cell_type": "markdown",
   "metadata": {},
   "source": [
    "### 2. Fundamental morphological operations"
   ]
  },
  {
   "cell_type": "markdown",
   "metadata": {},
   "source": [
    "Remember that, our ultimate goal in these lecture notebooks is to develop a method to segment cells from images in which cell borders are bright and the cytosol is dim. Over the last few weeks, we have written code to generate a *mask* that separates cell membranes from cytosol in our sample image. Here is a summary of what we did so far:"
   ]
  },
  {
   "cell_type": "code",
   "execution_count": null,
   "metadata": {},
   "outputs": [],
   "source": [
    "import matplotlib.pyplot as plt\n",
    "import numpy\n",
    "from skimage import exposure, filters, io\n",
    "\n",
    "# Read image from disk.\n",
    "animage = io.imread('cells.tif')\n",
    "\n",
    "# Gaussian smoothing to facilitate edge detection.\n",
    "animage_smooth = filters.gaussian(animage, sigma=2, preserve_range=True)\n",
    "\n",
    "# Contrast stretch.\n",
    "animage_rescaled = exposure.rescale_intensity(animage_smooth, out_range=numpy.uint8)\n",
    "\n",
    "# Local threshold.\n",
    "amask = animage_rescaled >= filters.threshold_local(animage_rescaled, 33, method='gaussian')\n",
    "\n",
    "# Display image and mask.\n",
    "fig, axs = plt.subplots(1, 2)\n",
    "axs[0].imshow(animage, cmap='Greys_r')\n",
    "axs[1].imshow(amask, cmap='binary_r')\n",
    "plt.show()\n"
   ]
  },
  {
   "cell_type": "markdown",
   "metadata": {},
   "source": [
    "The masks resulting from a threshold are rarely perfect. Depending on the threshold selection, too many or too few pixels will be considered to be \"foreground\", creating extraneous objects, holes, or discontinuities.\n",
    "\n",
    "Mathematical morphology provides tools to \"fix\" thresholded images. Mathematical morphology is a discipline based on set theory that enables manipulation and analysis of geometric structures. Mathematical morphology deals with sets of pixels above or below the threshold value. **Erosion, dilation, opening or closing** are some mathematical morphology operations. Similar to our discussion of filters, in morphological operations the value of each pixel (on/off) is determined based on the status (on/off) of a set of neighbours. The set of neighbours that affect the value of any given pixel is determined by a structuring element, a \"mask\" that is overlaid on each pixel of the original image. Pixels that are \"on\" in the structuring element are taken into account in the calculation of the new pixel value. Manipulating the size and shape of the structuring element can therefore have dramatic consequences on the results of morphological operations.  \n",
    "\n",
    "**Opening and closing**, specifically, can be useful to process binary images: opening separates fused objects, and closing fills holes in objects. Opening and closing are implemented in the methods **skimage.morphology.binary_opening and skimage.morphology.binary_closing**, respectively. \n",
    "\n",
    "Depending on your choice of threshold, use opening or closing to improve the mask that you generated above:"
   ]
  },
  {
   "cell_type": "code",
   "execution_count": null,
   "metadata": {},
   "outputs": [],
   "source": []
  }
 ],
 "metadata": {
  "kernelspec": {
   "display_name": "Python 3",
   "language": "python",
   "name": "python3"
  },
  "language_info": {
   "codemirror_mode": {
    "name": "ipython",
    "version": 3
   },
   "file_extension": ".py",
   "mimetype": "text/x-python",
   "name": "python",
   "nbconvert_exporter": "python",
   "pygments_lexer": "ipython3",
   "version": "3.7.7"
  }
 },
 "nbformat": 4,
 "nbformat_minor": 4
}
